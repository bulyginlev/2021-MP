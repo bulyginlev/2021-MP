{
 "cells": [
  {
   "cell_type": "markdown",
   "metadata": {},
   "source": [
    "# Вариант 2"
   ]
  },
  {
   "cell_type": "code",
   "execution_count": 151,
   "metadata": {},
   "outputs": [
    {
     "name": "stdout",
     "output_type": "stream",
     "text": [
      "Корень уравнения  =  -3.6682208645914987\n",
      "Значение функции в корне =  -8.6734122874077e-05\n",
      "Количество итераций =  218\n"
     ]
    }
   ],
   "source": [
    "#Задание 1\n",
    "import math\n",
    "import numpy as np\n",
    "import matplotlib.pyplot as plt\n",
    "\n",
    "#Метод хорд\n",
    "def f(x):\n",
    "    return 2*x**4-9*x**3-60*x**2+1\n",
    "x1=-1\n",
    "x2=-10\n",
    "n=0\n",
    "fX1=f(x1)\n",
    "fX2=f(x2)\n",
    "while fX1<-0.0001 or fX1>0.0001:\n",
    "    n+=1\n",
    "    fX1=f(x1)\n",
    "    fX2=f(x2)\n",
    "    k=(fX1-fX2)/(x1-x2)\n",
    "    b=fX2-k*x2\n",
    "    C=-(b/k)\n",
    "    fC=f(C)\n",
    "    if fX1*fC<0:\n",
    "        x2=C\n",
    "    elif fC*fX2<0:\n",
    "        x1=C\n",
    "    else:\n",
    "        print(\"Корней на интервале нет!\")\n",
    "        break\n",
    "print(\"Корень уравнения  = \",x1)\n",
    "print(\"Значение функции в корне = \", f(x1))\n",
    "print(\"Количество итераций = \",n)"
   ]
  },
  {
   "cell_type": "code",
   "execution_count": 152,
   "metadata": {},
   "outputs": [
    {
     "name": "stdout",
     "output_type": "stream",
     "text": [
      "Корень уравнения =  -3.6682357788085938\n",
      "Значение функции в точке p =  0.004655932535797547\n",
      "Количество итераций =  17\n"
     ]
    }
   ],
   "source": [
    "#Метод дихотомии\n",
    "import math\n",
    "import numpy as np\n",
    "import matplotlib.pyplot as plt\n",
    "\n",
    "e=0.0001\n",
    "n=0\n",
    "x1=-10\n",
    "x2=-1\n",
    "p=(x1+x2)/2\n",
    "\n",
    "def f(x):\n",
    "    return 2*x**4-9*x**3-60*x**2 + 1\n",
    "while ((x2-x1)>e):   \n",
    "    n+=1\n",
    "    p = (x1+x2)/2\n",
    "    if(f(x2)*(f(p)) < 0):\n",
    "        x1 = p\n",
    "    else:\n",
    "        x2 = p\n",
    "print(\"Корень уравнения = \" , p)\n",
    "print(\"Значение функции в точке p = \" , f(p))\n",
    "print(\"Количество итераций = \" , n)\n",
    "        "
   ]
  },
  {
   "cell_type": "code",
   "execution_count": 153,
   "metadata": {},
   "outputs": [
    {
     "data": {
      "image/png": "[encoded data removed]",
      "text/plain": [
       "<Figure size 432x288 with 1 Axes>"
      ]
     },
     "metadata": {
      "needs_background": "light"
     },
     "output_type": "display_data"
    }
   ],
   "source": [
    "#Задание 2 \n",
    "import math\n",
    "import numpy as np\n",
    "import matplotlib.pyplot as plt\n",
    "\n",
    "x= np.linspace(-4,2,100)\n",
    "y = x*2**x - 1\n",
    "plt.plot(x,y)\n",
    "plt.grid()\n",
    "plt.show()\n",
    "def F(x):\n",
    "    return x*2**x - 1\n",
    "def f1(x):\n",
    "    return 1/(2**x)\n",
    "def f(x):\n",
    "    return 2**x + np.log(2)*x*2**x\n",
    "    \n",
    "\n",
    "\n",
    "\n",
    "\n"
   ]
  },
  {
   "cell_type": "code",
   "execution_count": 154,
   "metadata": {},
   "outputs": [
    {
     "name": "stdout",
     "output_type": "stream",
     "text": [
      "Корень уравнения = 0.6411888149655445\n",
      "Отличие от 0 6.917015968666007e-06\n",
      "Количество итераций = 3\n"
     ]
    }
   ],
   "source": [
    "#Метод Ньютона\n",
    "import math\n",
    "import numpy as np\n",
    "import matplotlib.pyplot as plt\n",
    "\n",
    "e= 0.0001\n",
    "x = 1\n",
    "n=0\n",
    "def F(x):\n",
    "    return x*2**x - 1\n",
    "def f1(x):\n",
    "    return 1/(2**x)\n",
    "def f(x):\n",
    "    return 2**x + np.log(2)*x*2**x\n",
    "    \n",
    "while abs(F(x)>e):\n",
    "    x-=F(x)/f(x)\n",
    "    n+=1\n",
    "print(\"Корень уравнения =\",x)\n",
    "print(\"Отличие от 0\",F(x))\n",
    "print(\"Количество итераций =\",n)\n",
    "\n"
   ]
  },
  {
   "cell_type": "code",
   "execution_count": 155,
   "metadata": {},
   "outputs": [
    {
     "name": "stdout",
     "output_type": "stream",
     "text": [
      "Корень уравнения = 0.6411418514717377\n",
      "Отличие от 0 -9.887782091988484e-05\n",
      "Количество итераций = 11\n"
     ]
    }
   ],
   "source": [
    "#Метод простой итерации\n",
    "import math\n",
    "import numpy as np\n",
    "import matplotlib.pyplot as plt\n",
    "\n",
    "x=1\n",
    "n=0\n",
    "e= 0.0001\n",
    "while abs(F(x))>e:\n",
    "    x=f1(x)\n",
    "    n+=1\n",
    "print(\"Корень уравнения =\",x)\n",
    "print(\"Отличие от 0\",F(x))\n",
    "print(\"Количество итераций =\",n)\n",
    "\n",
    "    \n"
   ]
  },
  {
   "cell_type": "code",
   "execution_count": 156,
   "metadata": {},
   "outputs": [],
   "source": [
    "#Задание 3\n",
    "import math\n",
    "eps=0.0001\n",
    "x=2\n",
    "y=0\n",
    "def F1(x,y):\n",
    "    s=math.sin(x)+2*y-2\n",
    "    return s\n",
    "def F2(x,y):\n",
    "    s=math.cos(y-1) + x- 0.7\n",
    "    return s\n",
    "def dF1x(x,y):\n",
    "    s=math.cos(x)\n",
    "    return s\n",
    "def dF1y(x,y):\n",
    "    s=2\n",
    "    return s\n",
    "def dF2x(x,y):\n",
    "    s=1\n",
    "    return s\n",
    "def dF2y(x,y):\n",
    "    s=-math.sin(y-1)\n",
    "    return s\n",
    "def g(x,y):\n",
    "    d=dF1x(x,y)*dF2y(x,y)-dF2x(x,y)*dF1y(x,y)\n",
    "    gd=F2(x,y)*dF1y(x,y)-F1(x,y)*dF2y(x,y)\n",
    "    return gd/d\n",
    "def h(x,y):\n",
    "    d=dF1x(x,y)*dF2y(x,y)-dF2x(x,y)*dF1y(x,y)\n",
    "    hd=F1(x,y)*dF2x(x,y)-F2(x,y)*dF1x(x,y)\n",
    "    return hd/d"
   ]
  },
  {
   "cell_type": "code",
   "execution_count": 157,
   "metadata": {},
   "outputs": [
    {
     "name": "stdout",
     "output_type": "stream",
     "text": [
      "[-0.2898093288495995, 1.1428847552229942]\n",
      "1.3431822392107051e-06 -1.076949212031053e-06\n",
      "i = 5\n"
     ]
    }
   ],
   "source": [
    "nx=x+g(x,y)\n",
    "ny=y+h(x,y)\n",
    "i=0\n",
    "while (abs((nx**2+ ny**2)**(1/2)-(x**2+y**2)**(1/2))>eps and (i<2000)):\n",
    "    x=nx\n",
    "    y=ny\n",
    "    nx=x+g(x,y)\n",
    "    ny=y+h(x,y)\n",
    "    i=i+1    \n",
    "a=[]\n",
    "a.append(nx)\n",
    "a.append(ny)\n",
    "\n",
    "print(a)\n",
    "print(F1(x,y),F2(x,y))\n",
    "print(\"i = \" + str(i))"
   ]
  },
  {
   "cell_type": "code",
   "execution_count": null,
   "metadata": {},
   "outputs": [],
   "source": []
  },
  {
   "cell_type": "code",
   "execution_count": null,
   "metadata": {},
   "outputs": [],
   "source": []
  }
 ],
 "metadata": {
  "kernelspec": {
   "display_name": "Python 3",
   "language": "python",
   "name": "python3"
  },
  "language_info": {
   "codemirror_mode": {
    "name": "ipython",
    "version": 3
   },
   "file_extension": ".py",
   "mimetype": "text/x-python",
   "name": "python",
   "nbconvert_exporter": "python",
   "pygments_lexer": "ipython3",
   "version": "3.9.0"
  }
 },
 "nbformat": 4,
 "nbformat_minor": 4
}
